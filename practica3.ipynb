{
  "nbformat": 4,
  "nbformat_minor": 0,
  "metadata": {
    "colab": {
      "name": "practica3.ipynb",
      "provenance": [],
      "authorship_tag": "ABX9TyMgLLXBOxXuHWSik4AcpGDj",
      "include_colab_link": true
    },
    "kernelspec": {
      "name": "python3",
      "display_name": "Python 3"
    },
    "language_info": {
      "name": "python"
    }
  },
  "cells": [
    {
      "cell_type": "markdown",
      "metadata": {
        "id": "view-in-github",
        "colab_type": "text"
      },
      "source": [
        "<a href=\"https://colab.research.google.com/github/inigonavas/financieros/blob/main/practica3.ipynb\" target=\"_parent\"><img src=\"https://colab.research.google.com/assets/colab-badge.svg\" alt=\"Open In Colab\"/></a>"
      ]
    },
    {
      "cell_type": "code",
      "execution_count": null,
      "metadata": {
        "id": "RI7Qid0zcDim"
      },
      "outputs": [],
      "source": [
        "# Estimación por árboles binomiales\n",
        "import numpy as np\n",
        "from scipy.stats import binom\n",
        "#Datos de entrada\n",
        "tipo=input('Tipo de opción: 1 Call, 2 Put. Indique 1 o 2. ') or '1'\n",
        "if tipo=='1':\n",
        "  print('Tipo de la opción: CALL')\n",
        "if tipo=='2':\n",
        "  print('Tipo de la opción: PUT')\n",
        "spot=float(input('Precio Spot del activo subyacente: ') or 300)\n",
        "print('Precio spot=',spot)\n",
        "strik=float(input('Precio de ejercicio: Strik: ') or 300)\n",
        "print('strik=',strik)\n",
        "anyos=float(input('Duración en años: ') or 4)\n",
        "print('años=',anyos)\n",
        "volatilidad=float(input('Volatilidad anual, por ejemplo 0.2: ') or 0.1)\n",
        "print('Volatilidad=',volatilidad*100,'%')\n",
        "n=int(input('Número de pasos del arbol binomial, por ejemplo 4: ') or 4)\n",
        "print('Número de pasos del arbol binomial=',n)\n",
        "tInt=float(input('Rentabilidad libre de riesgo. Por ejemplo para un 7% poner 0.07: ') or 0.08)\n",
        "print('Tipo de interés=',tInt*100,'%')\n",
        "r=np.log(1+tInt)  # r es el tanto instantáneo\n",
        "print('Tanto instantáneo=',r*100,'%')\n",
        "# log es el neperiano. Ejemplo np.log(np.e) es igua a 1\n",
        "#Calculo de r,u,d,p,deltaT\n",
        "deltaT=anyos/n\n",
        "u=np.exp(volatilidad*np.sqrt(deltaT))\n",
        "d=1/u\n",
        "p=(np.exp(r*deltaT)-d)/(u-d)\n",
        "#Generación de los precios esperados del activo subyacente a fecha de vencimiento\n",
        "Sn=[0]*(n+1) #Sn es la lista de precios del activo subyacene a fecha de vto.\n",
        "print('u=',u,'p=',p,'deltaT=',deltaT)\n",
        "for i in range(n+1):\n",
        "  Sn[i]=spot*u**(n-i)*d**i\n",
        "  #print('Sn(',i,')=',Sn[i])\n",
        "#calculamos el payoff según sea un Call o un Put\n",
        "payoff=[0]*(n+1) #inicilizamos a cero la lista del payoff\n",
        "for i in range(n+1):\n",
        "  if tipo=='1':\n",
        "    payoff[i]=max(0,Sn[i]-strik)\n",
        "  if tipo=='2':\n",
        "    payoff[i]=max(0,strik-Sn[i])\n",
        "  #print('payoff(',i,')=',payoff[i])\n",
        "  #print('binomial(',i,')=',binom.pmf(n-i, n, p))\n",
        "#cálculo de la prima estimada\n",
        "prima=0\n",
        "for i in range(n+1):\n",
        "  prima+=payoff[i]*binom.pmf(n-i, n, p)\n",
        "prima=prima*np.exp(-r*anyos) #descontamos a valor actual, hasta t=0\n",
        "print('Prima estimada=',prima)"
      ]
    }
  ]
}